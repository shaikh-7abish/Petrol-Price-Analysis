{
 "cells": [
  {
   "cell_type": "code",
   "execution_count": 1,
   "id": "d7ff7885",
   "metadata": {},
   "outputs": [],
   "source": [
    "# importing modules\n",
    "import numpy as np\n",
    "import pandas as pd\n",
    "import matplotlib.pyplot as plt\n",
    "import seaborn as sns"
   ]
  },
  {
   "cell_type": "code",
   "execution_count": 2,
   "id": "d5732584",
   "metadata": {},
   "outputs": [],
   "source": [
    "# reading csv file\n",
    "data = pd.read_csv('petrol.csv')"
   ]
  },
  {
   "cell_type": "code",
   "execution_count": 3,
   "id": "69c3e7a8",
   "metadata": {},
   "outputs": [
    {
     "data": {
      "text/html": [
       "<div>\n",
       "<style scoped>\n",
       "    .dataframe tbody tr th:only-of-type {\n",
       "        vertical-align: middle;\n",
       "    }\n",
       "\n",
       "    .dataframe tbody tr th {\n",
       "        vertical-align: top;\n",
       "    }\n",
       "\n",
       "    .dataframe thead th {\n",
       "        text-align: right;\n",
       "    }\n",
       "</style>\n",
       "<table border=\"1\" class=\"dataframe\">\n",
       "  <thead>\n",
       "    <tr style=\"text-align: right;\">\n",
       "      <th></th>\n",
       "      <th>city</th>\n",
       "      <th>date</th>\n",
       "      <th>rate</th>\n",
       "      <th>state</th>\n",
       "    </tr>\n",
       "  </thead>\n",
       "  <tbody>\n",
       "    <tr>\n",
       "      <th>5036</th>\n",
       "      <td>Mumbai</td>\n",
       "      <td>2020-12-20</td>\n",
       "      <td>90.30</td>\n",
       "      <td>Maharashtra</td>\n",
       "    </tr>\n",
       "    <tr>\n",
       "      <th>4944</th>\n",
       "      <td>Mumbai</td>\n",
       "      <td>2020-09-19</td>\n",
       "      <td>87.87</td>\n",
       "      <td>Maharashtra</td>\n",
       "    </tr>\n",
       "    <tr>\n",
       "      <th>3773</th>\n",
       "      <td>Chennai</td>\n",
       "      <td>2020-05-05</td>\n",
       "      <td>75.52</td>\n",
       "      <td>Tamil Nadu</td>\n",
       "    </tr>\n",
       "    <tr>\n",
       "      <th>1690</th>\n",
       "      <td>Bengaluru</td>\n",
       "      <td>2020-04-11</td>\n",
       "      <td>73.53</td>\n",
       "      <td>Karnataka</td>\n",
       "    </tr>\n",
       "    <tr>\n",
       "      <th>2509</th>\n",
       "      <td>Delhi</td>\n",
       "      <td>2019-06-15</td>\n",
       "      <td>70.02</td>\n",
       "      <td>Delhi</td>\n",
       "    </tr>\n",
       "    <tr>\n",
       "      <th>3964</th>\n",
       "      <td>Chennai</td>\n",
       "      <td>2020-11-13</td>\n",
       "      <td>84.19</td>\n",
       "      <td>Tamil Nadu</td>\n",
       "    </tr>\n",
       "    <tr>\n",
       "      <th>1158</th>\n",
       "      <td>Bengaluru</td>\n",
       "      <td>2017-11-03</td>\n",
       "      <td>70.41</td>\n",
       "      <td>Karnataka</td>\n",
       "    </tr>\n",
       "    <tr>\n",
       "      <th>758</th>\n",
       "      <td>Hyderabad</td>\n",
       "      <td>2020-05-25</td>\n",
       "      <td>73.95</td>\n",
       "      <td>Telangana</td>\n",
       "    </tr>\n",
       "    <tr>\n",
       "      <th>1554</th>\n",
       "      <td>Bengaluru</td>\n",
       "      <td>2019-11-01</td>\n",
       "      <td>75.29</td>\n",
       "      <td>Karnataka</td>\n",
       "    </tr>\n",
       "    <tr>\n",
       "      <th>2756</th>\n",
       "      <td>Delhi</td>\n",
       "      <td>2020-05-19</td>\n",
       "      <td>71.30</td>\n",
       "      <td>Delhi</td>\n",
       "    </tr>\n",
       "  </tbody>\n",
       "</table>\n",
       "</div>"
      ],
      "text/plain": [
       "           city        date   rate        state\n",
       "5036     Mumbai  2020-12-20  90.30  Maharashtra\n",
       "4944     Mumbai  2020-09-19  87.87  Maharashtra\n",
       "3773    Chennai  2020-05-05  75.52   Tamil Nadu\n",
       "1690  Bengaluru  2020-04-11  73.53    Karnataka\n",
       "2509      Delhi  2019-06-15  70.02        Delhi\n",
       "3964    Chennai  2020-11-13  84.19   Tamil Nadu\n",
       "1158  Bengaluru  2017-11-03  70.41    Karnataka\n",
       "758   Hyderabad  2020-05-25  73.95    Telangana\n",
       "1554  Bengaluru  2019-11-01  75.29    Karnataka\n",
       "2756      Delhi  2020-05-19  71.30        Delhi"
      ]
     },
     "execution_count": 3,
     "metadata": {},
     "output_type": "execute_result"
    }
   ],
   "source": [
    "# sample of dataset\n",
    "data.sample(10)"
   ]
  },
  {
   "cell_type": "code",
   "execution_count": 4,
   "id": "b035a73f",
   "metadata": {},
   "outputs": [
    {
     "data": {
      "text/plain": [
       "(5048, 4)"
      ]
     },
     "execution_count": 4,
     "metadata": {},
     "output_type": "execute_result"
    }
   ],
   "source": [
    "# shape of dataset\n",
    "data.shape"
   ]
  },
  {
   "cell_type": "code",
   "execution_count": 5,
   "id": "e41b4c4c",
   "metadata": {},
   "outputs": [
    {
     "name": "stdout",
     "output_type": "stream",
     "text": [
      "<class 'pandas.core.frame.DataFrame'>\n",
      "RangeIndex: 5048 entries, 0 to 5047\n",
      "Data columns (total 4 columns):\n",
      " #   Column  Non-Null Count  Dtype  \n",
      "---  ------  --------------  -----  \n",
      " 0   city    5048 non-null   object \n",
      " 1   date    5048 non-null   object \n",
      " 2   rate    5048 non-null   float64\n",
      " 3   state   5048 non-null   object \n",
      "dtypes: float64(1), object(3)\n",
      "memory usage: 157.9+ KB\n"
     ]
    }
   ],
   "source": [
    "# checking for null values in dataset\n",
    "data.info()"
   ]
  },
  {
   "cell_type": "code",
   "execution_count": 6,
   "id": "35488866",
   "metadata": {},
   "outputs": [],
   "source": [
    "# changing datatype of date to datetime datatype\n",
    "data['date'] = pd.to_datetime(data['date'])"
   ]
  },
  {
   "cell_type": "code",
   "execution_count": 7,
   "id": "dc5e1d95",
   "metadata": {},
   "outputs": [
    {
     "name": "stdout",
     "output_type": "stream",
     "text": [
      "<class 'pandas.core.frame.DataFrame'>\n",
      "RangeIndex: 5048 entries, 0 to 5047\n",
      "Data columns (total 4 columns):\n",
      " #   Column  Non-Null Count  Dtype         \n",
      "---  ------  --------------  -----         \n",
      " 0   city    5048 non-null   object        \n",
      " 1   date    5048 non-null   datetime64[ns]\n",
      " 2   rate    5048 non-null   float64       \n",
      " 3   state   5048 non-null   object        \n",
      "dtypes: datetime64[ns](1), float64(1), object(2)\n",
      "memory usage: 157.9+ KB\n"
     ]
    }
   ],
   "source": [
    "# changed datatype of date\n",
    "data.info()"
   ]
  },
  {
   "cell_type": "code",
   "execution_count": 8,
   "id": "d48a6fe8",
   "metadata": {},
   "outputs": [],
   "source": [
    "# setting date as index\n",
    "data = data.set_index('date')"
   ]
  },
  {
   "cell_type": "code",
   "execution_count": 9,
   "id": "80b189b7",
   "metadata": {},
   "outputs": [
    {
     "data": {
      "text/html": [
       "<div>\n",
       "<style scoped>\n",
       "    .dataframe tbody tr th:only-of-type {\n",
       "        vertical-align: middle;\n",
       "    }\n",
       "\n",
       "    .dataframe tbody tr th {\n",
       "        vertical-align: top;\n",
       "    }\n",
       "\n",
       "    .dataframe thead th {\n",
       "        text-align: right;\n",
       "    }\n",
       "</style>\n",
       "<table border=\"1\" class=\"dataframe\">\n",
       "  <thead>\n",
       "    <tr style=\"text-align: right;\">\n",
       "      <th></th>\n",
       "      <th>city</th>\n",
       "      <th>rate</th>\n",
       "      <th>state</th>\n",
       "    </tr>\n",
       "    <tr>\n",
       "      <th>date</th>\n",
       "      <th></th>\n",
       "      <th></th>\n",
       "      <th></th>\n",
       "    </tr>\n",
       "  </thead>\n",
       "  <tbody>\n",
       "    <tr>\n",
       "      <th>2011-12-01</th>\n",
       "      <td>Hyderabad</td>\n",
       "      <td>73.07</td>\n",
       "      <td>Telangana</td>\n",
       "    </tr>\n",
       "    <tr>\n",
       "      <th>2012-04-01</th>\n",
       "      <td>Hyderabad</td>\n",
       "      <td>73.08</td>\n",
       "      <td>Telangana</td>\n",
       "    </tr>\n",
       "    <tr>\n",
       "      <th>2012-05-24</th>\n",
       "      <td>Hyderabad</td>\n",
       "      <td>81.44</td>\n",
       "      <td>Telangana</td>\n",
       "    </tr>\n",
       "    <tr>\n",
       "      <th>2012-06-03</th>\n",
       "      <td>Hyderabad</td>\n",
       "      <td>78.11</td>\n",
       "      <td>Telangana</td>\n",
       "    </tr>\n",
       "    <tr>\n",
       "      <th>2012-06-29</th>\n",
       "      <td>Hyderabad</td>\n",
       "      <td>74.89</td>\n",
       "      <td>Telangana</td>\n",
       "    </tr>\n",
       "  </tbody>\n",
       "</table>\n",
       "</div>"
      ],
      "text/plain": [
       "                 city   rate      state\n",
       "date                                   \n",
       "2011-12-01  Hyderabad  73.07  Telangana\n",
       "2012-04-01  Hyderabad  73.08  Telangana\n",
       "2012-05-24  Hyderabad  81.44  Telangana\n",
       "2012-06-03  Hyderabad  78.11  Telangana\n",
       "2012-06-29  Hyderabad  74.89  Telangana"
      ]
     },
     "execution_count": 9,
     "metadata": {},
     "output_type": "execute_result"
    }
   ],
   "source": [
    "# new preview of dataset\n",
    "data.head()"
   ]
  },
  {
   "cell_type": "code",
   "execution_count": 10,
   "id": "cdab33c6",
   "metadata": {},
   "outputs": [
    {
     "data": {
      "text/plain": [
       "DatetimeIndex(['2011-12-01', '2012-04-01', '2012-05-24', '2012-06-03',\n",
       "               '2012-06-29', '2012-07-24', '2012-07-25', '2012-10-09',\n",
       "               '2012-10-27', '2012-11-16',\n",
       "               ...\n",
       "               '2020-12-22', '2020-12-23', '2020-12-24', '2020-12-25',\n",
       "               '2020-12-26', '2020-12-27', '2020-12-28', '2020-12-29',\n",
       "               '2020-12-30', '2020-12-31'],\n",
       "              dtype='datetime64[ns]', name='date', length=5048, freq=None)"
      ]
     },
     "execution_count": 10,
     "metadata": {},
     "output_type": "execute_result"
    }
   ],
   "source": [
    "# viewing index\n",
    "data.index"
   ]
  },
  {
   "cell_type": "code",
   "execution_count": 11,
   "id": "1f3fceec",
   "metadata": {},
   "outputs": [],
   "source": [
    "# extracting year, month, day from index and creating new column\n",
    "data['year'] = data.index.year\n",
    "data['month'] = data.index.month\n",
    "data['day'] = data.index.day"
   ]
  },
  {
   "cell_type": "code",
   "execution_count": 12,
   "id": "9b6ef123",
   "metadata": {},
   "outputs": [
    {
     "data": {
      "text/html": [
       "<div>\n",
       "<style scoped>\n",
       "    .dataframe tbody tr th:only-of-type {\n",
       "        vertical-align: middle;\n",
       "    }\n",
       "\n",
       "    .dataframe tbody tr th {\n",
       "        vertical-align: top;\n",
       "    }\n",
       "\n",
       "    .dataframe thead th {\n",
       "        text-align: right;\n",
       "    }\n",
       "</style>\n",
       "<table border=\"1\" class=\"dataframe\">\n",
       "  <thead>\n",
       "    <tr style=\"text-align: right;\">\n",
       "      <th></th>\n",
       "      <th>city</th>\n",
       "      <th>rate</th>\n",
       "      <th>state</th>\n",
       "      <th>year</th>\n",
       "      <th>month</th>\n",
       "      <th>day</th>\n",
       "    </tr>\n",
       "    <tr>\n",
       "      <th>date</th>\n",
       "      <th></th>\n",
       "      <th></th>\n",
       "      <th></th>\n",
       "      <th></th>\n",
       "      <th></th>\n",
       "      <th></th>\n",
       "    </tr>\n",
       "  </thead>\n",
       "  <tbody>\n",
       "    <tr>\n",
       "      <th>2017-12-07</th>\n",
       "      <td>Bengaluru</td>\n",
       "      <td>70.30</td>\n",
       "      <td>Karnataka</td>\n",
       "      <td>2017</td>\n",
       "      <td>12</td>\n",
       "      <td>7</td>\n",
       "    </tr>\n",
       "    <tr>\n",
       "      <th>2018-01-02</th>\n",
       "      <td>Hyderabad</td>\n",
       "      <td>74.09</td>\n",
       "      <td>Telangana</td>\n",
       "      <td>2018</td>\n",
       "      <td>1</td>\n",
       "      <td>2</td>\n",
       "    </tr>\n",
       "    <tr>\n",
       "      <th>2017-09-29</th>\n",
       "      <td>Delhi</td>\n",
       "      <td>70.56</td>\n",
       "      <td>Delhi</td>\n",
       "      <td>2017</td>\n",
       "      <td>9</td>\n",
       "      <td>29</td>\n",
       "    </tr>\n",
       "    <tr>\n",
       "      <th>2019-04-22</th>\n",
       "      <td>Bengaluru</td>\n",
       "      <td>75.38</td>\n",
       "      <td>Karnataka</td>\n",
       "      <td>2019</td>\n",
       "      <td>4</td>\n",
       "      <td>22</td>\n",
       "    </tr>\n",
       "    <tr>\n",
       "      <th>2017-11-22</th>\n",
       "      <td>Chennai</td>\n",
       "      <td>72.01</td>\n",
       "      <td>Tamil Nadu</td>\n",
       "      <td>2017</td>\n",
       "      <td>11</td>\n",
       "      <td>22</td>\n",
       "    </tr>\n",
       "    <tr>\n",
       "      <th>2020-04-02</th>\n",
       "      <td>Mumbai</td>\n",
       "      <td>75.28</td>\n",
       "      <td>Maharashtra</td>\n",
       "      <td>2020</td>\n",
       "      <td>4</td>\n",
       "      <td>2</td>\n",
       "    </tr>\n",
       "    <tr>\n",
       "      <th>2020-08-14</th>\n",
       "      <td>Bengaluru</td>\n",
       "      <td>83.02</td>\n",
       "      <td>Karnataka</td>\n",
       "      <td>2020</td>\n",
       "      <td>8</td>\n",
       "      <td>14</td>\n",
       "    </tr>\n",
       "    <tr>\n",
       "      <th>2020-05-27</th>\n",
       "      <td>Bengaluru</td>\n",
       "      <td>73.53</td>\n",
       "      <td>Karnataka</td>\n",
       "      <td>2020</td>\n",
       "      <td>5</td>\n",
       "      <td>27</td>\n",
       "    </tr>\n",
       "    <tr>\n",
       "      <th>2018-12-07</th>\n",
       "      <td>Mumbai</td>\n",
       "      <td>76.55</td>\n",
       "      <td>Maharashtra</td>\n",
       "      <td>2018</td>\n",
       "      <td>12</td>\n",
       "      <td>7</td>\n",
       "    </tr>\n",
       "    <tr>\n",
       "      <th>2018-10-05</th>\n",
       "      <td>Delhi</td>\n",
       "      <td>81.56</td>\n",
       "      <td>Delhi</td>\n",
       "      <td>2018</td>\n",
       "      <td>10</td>\n",
       "      <td>5</td>\n",
       "    </tr>\n",
       "  </tbody>\n",
       "</table>\n",
       "</div>"
      ],
      "text/plain": [
       "                 city   rate        state  year  month  day\n",
       "date                                                       \n",
       "2017-12-07  Bengaluru  70.30    Karnataka  2017     12    7\n",
       "2018-01-02  Hyderabad  74.09    Telangana  2018      1    2\n",
       "2017-09-29      Delhi  70.56        Delhi  2017      9   29\n",
       "2019-04-22  Bengaluru  75.38    Karnataka  2019      4   22\n",
       "2017-11-22    Chennai  72.01   Tamil Nadu  2017     11   22\n",
       "2020-04-02     Mumbai  75.28  Maharashtra  2020      4    2\n",
       "2020-08-14  Bengaluru  83.02    Karnataka  2020      8   14\n",
       "2020-05-27  Bengaluru  73.53    Karnataka  2020      5   27\n",
       "2018-12-07     Mumbai  76.55  Maharashtra  2018     12    7\n",
       "2018-10-05      Delhi  81.56        Delhi  2018     10    5"
      ]
     },
     "execution_count": 12,
     "metadata": {},
     "output_type": "execute_result"
    }
   ],
   "source": [
    "# sample of dataset after changes\n",
    "data.sample(10)"
   ]
  },
  {
   "cell_type": "code",
   "execution_count": 13,
   "id": "a3e0b591",
   "metadata": {},
   "outputs": [
    {
     "data": {
      "text/plain": [
       "2002"
      ]
     },
     "execution_count": 13,
     "metadata": {},
     "output_type": "execute_result"
    }
   ],
   "source": [
    "# oldest data by year\n",
    "data['year'].min()"
   ]
  },
  {
   "cell_type": "code",
   "execution_count": 14,
   "id": "23eb1649",
   "metadata": {},
   "outputs": [
    {
     "data": {
      "text/plain": [
       "2020"
      ]
     },
     "execution_count": 14,
     "metadata": {},
     "output_type": "execute_result"
    }
   ],
   "source": [
    "# latest data by year\n",
    "data['year'].max()"
   ]
  },
  {
   "cell_type": "code",
   "execution_count": 15,
   "id": "a92e0d59",
   "metadata": {},
   "outputs": [],
   "source": [
    "# as you can see the data is from 2002 to 2020\n",
    "# checking for minimum price in dataset\n",
    "mini = data['rate'].min()"
   ]
  },
  {
   "cell_type": "code",
   "execution_count": 16,
   "id": "3d185883",
   "metadata": {},
   "outputs": [
    {
     "data": {
      "text/html": [
       "<div>\n",
       "<style scoped>\n",
       "    .dataframe tbody tr th:only-of-type {\n",
       "        vertical-align: middle;\n",
       "    }\n",
       "\n",
       "    .dataframe tbody tr th {\n",
       "        vertical-align: top;\n",
       "    }\n",
       "\n",
       "    .dataframe thead th {\n",
       "        text-align: right;\n",
       "    }\n",
       "</style>\n",
       "<table border=\"1\" class=\"dataframe\">\n",
       "  <thead>\n",
       "    <tr style=\"text-align: right;\">\n",
       "      <th></th>\n",
       "      <th>city</th>\n",
       "      <th>rate</th>\n",
       "      <th>state</th>\n",
       "      <th>year</th>\n",
       "      <th>month</th>\n",
       "      <th>day</th>\n",
       "    </tr>\n",
       "    <tr>\n",
       "      <th>date</th>\n",
       "      <th></th>\n",
       "      <th></th>\n",
       "      <th></th>\n",
       "      <th></th>\n",
       "      <th></th>\n",
       "      <th></th>\n",
       "    </tr>\n",
       "  </thead>\n",
       "  <tbody>\n",
       "    <tr>\n",
       "      <th>2003-03-01</th>\n",
       "      <td>Delhi</td>\n",
       "      <td>23.1</td>\n",
       "      <td>Delhi</td>\n",
       "      <td>2003</td>\n",
       "      <td>3</td>\n",
       "      <td>1</td>\n",
       "    </tr>\n",
       "  </tbody>\n",
       "</table>\n",
       "</div>"
      ],
      "text/plain": [
       "             city  rate  state  year  month  day\n",
       "date                                            \n",
       "2003-03-01  Delhi  23.1  Delhi  2003      3    1"
      ]
     },
     "execution_count": 16,
     "metadata": {},
     "output_type": "execute_result"
    }
   ],
   "source": [
    "# viewing the record of minimum value\n",
    "data.loc[data['rate'] == mini]"
   ]
  },
  {
   "cell_type": "code",
   "execution_count": 17,
   "id": "30cf55b5",
   "metadata": {},
   "outputs": [],
   "source": [
    "# checking for minimum price in dataset\n",
    "maxi = data['rate'].max()"
   ]
  },
  {
   "cell_type": "code",
   "execution_count": 18,
   "id": "0128144d",
   "metadata": {},
   "outputs": [
    {
     "data": {
      "text/html": [
       "<div>\n",
       "<style scoped>\n",
       "    .dataframe tbody tr th:only-of-type {\n",
       "        vertical-align: middle;\n",
       "    }\n",
       "\n",
       "    .dataframe tbody tr th {\n",
       "        vertical-align: top;\n",
       "    }\n",
       "\n",
       "    .dataframe thead th {\n",
       "        text-align: right;\n",
       "    }\n",
       "</style>\n",
       "<table border=\"1\" class=\"dataframe\">\n",
       "  <thead>\n",
       "    <tr style=\"text-align: right;\">\n",
       "      <th></th>\n",
       "      <th>city</th>\n",
       "      <th>rate</th>\n",
       "      <th>state</th>\n",
       "      <th>year</th>\n",
       "      <th>month</th>\n",
       "      <th>day</th>\n",
       "    </tr>\n",
       "    <tr>\n",
       "      <th>date</th>\n",
       "      <th></th>\n",
       "      <th></th>\n",
       "      <th></th>\n",
       "      <th></th>\n",
       "      <th></th>\n",
       "      <th></th>\n",
       "    </tr>\n",
       "  </thead>\n",
       "  <tbody>\n",
       "    <tr>\n",
       "      <th>2018-10-04</th>\n",
       "      <td>Mumbai</td>\n",
       "      <td>91.39</td>\n",
       "      <td>Maharashtra</td>\n",
       "      <td>2018</td>\n",
       "      <td>10</td>\n",
       "      <td>4</td>\n",
       "    </tr>\n",
       "  </tbody>\n",
       "</table>\n",
       "</div>"
      ],
      "text/plain": [
       "              city   rate        state  year  month  day\n",
       "date                                                    \n",
       "2018-10-04  Mumbai  91.39  Maharashtra  2018     10    4"
      ]
     },
     "execution_count": 18,
     "metadata": {},
     "output_type": "execute_result"
    }
   ],
   "source": [
    "# viewing the record of minimum value\n",
    "data.loc[data['rate'] == maxi]"
   ]
  },
  {
   "cell_type": "code",
   "execution_count": 19,
   "id": "be461eec",
   "metadata": {},
   "outputs": [
    {
     "data": {
      "text/plain": [
       "Maharashtra    1035\n",
       "Tamil Nadu     1031\n",
       "Delhi          1029\n",
       "Telangana       978\n",
       "Karnataka       975\n",
       "Name: state, dtype: int64"
      ]
     },
     "execution_count": 19,
     "metadata": {},
     "output_type": "execute_result"
    }
   ],
   "source": [
    "# counting values by state\n",
    "data['state'].value_counts()"
   ]
  },
  {
   "cell_type": "code",
   "execution_count": 20,
   "id": "30258438",
   "metadata": {},
   "outputs": [
    {
     "data": {
      "text/plain": [
       "Mumbai       1035\n",
       "Chennai      1031\n",
       "Delhi        1029\n",
       "Hyderabad     978\n",
       "Bengaluru     975\n",
       "Name: city, dtype: int64"
      ]
     },
     "execution_count": 20,
     "metadata": {},
     "output_type": "execute_result"
    }
   ],
   "source": [
    "# counting values by city\n",
    "data['city'].value_counts()"
   ]
  },
  {
   "cell_type": "code",
   "execution_count": 21,
   "id": "681f4103",
   "metadata": {},
   "outputs": [],
   "source": [
    "# as we can see all states have only one city data so we will be using city instead of states"
   ]
  },
  {
   "cell_type": "code",
   "execution_count": 22,
   "id": "80f8a35d",
   "metadata": {},
   "outputs": [],
   "source": [
    "# extracting city wise data into new varibles for using in plots\n",
    "mumbai = data[data['city'] == 'Mumbai']"
   ]
  },
  {
   "cell_type": "code",
   "execution_count": 23,
   "id": "95e7c55b",
   "metadata": {},
   "outputs": [
    {
     "data": {
      "text/html": [
       "<div>\n",
       "<style scoped>\n",
       "    .dataframe tbody tr th:only-of-type {\n",
       "        vertical-align: middle;\n",
       "    }\n",
       "\n",
       "    .dataframe tbody tr th {\n",
       "        vertical-align: top;\n",
       "    }\n",
       "\n",
       "    .dataframe thead th {\n",
       "        text-align: right;\n",
       "    }\n",
       "</style>\n",
       "<table border=\"1\" class=\"dataframe\">\n",
       "  <thead>\n",
       "    <tr style=\"text-align: right;\">\n",
       "      <th></th>\n",
       "      <th>city</th>\n",
       "      <th>rate</th>\n",
       "      <th>state</th>\n",
       "      <th>year</th>\n",
       "      <th>month</th>\n",
       "      <th>day</th>\n",
       "    </tr>\n",
       "    <tr>\n",
       "      <th>date</th>\n",
       "      <th></th>\n",
       "      <th></th>\n",
       "      <th></th>\n",
       "      <th></th>\n",
       "      <th></th>\n",
       "      <th></th>\n",
       "    </tr>\n",
       "  </thead>\n",
       "  <tbody>\n",
       "    <tr>\n",
       "      <th>2002-10-01</th>\n",
       "      <td>Mumbai</td>\n",
       "      <td>34.42</td>\n",
       "      <td>Maharashtra</td>\n",
       "      <td>2002</td>\n",
       "      <td>10</td>\n",
       "      <td>1</td>\n",
       "    </tr>\n",
       "    <tr>\n",
       "      <th>2002-10-17</th>\n",
       "      <td>Mumbai</td>\n",
       "      <td>34.95</td>\n",
       "      <td>Maharashtra</td>\n",
       "      <td>2002</td>\n",
       "      <td>10</td>\n",
       "      <td>17</td>\n",
       "    </tr>\n",
       "    <tr>\n",
       "      <th>2002-11-01</th>\n",
       "      <td>Mumbai</td>\n",
       "      <td>34.98</td>\n",
       "      <td>Maharashtra</td>\n",
       "      <td>2002</td>\n",
       "      <td>11</td>\n",
       "      <td>1</td>\n",
       "    </tr>\n",
       "    <tr>\n",
       "      <th>2002-11-16</th>\n",
       "      <td>Mumbai</td>\n",
       "      <td>34.23</td>\n",
       "      <td>Maharashtra</td>\n",
       "      <td>2002</td>\n",
       "      <td>11</td>\n",
       "      <td>16</td>\n",
       "    </tr>\n",
       "    <tr>\n",
       "      <th>2002-12-01</th>\n",
       "      <td>Mumbai</td>\n",
       "      <td>33.63</td>\n",
       "      <td>Maharashtra</td>\n",
       "      <td>2002</td>\n",
       "      <td>12</td>\n",
       "      <td>1</td>\n",
       "    </tr>\n",
       "    <tr>\n",
       "      <th>...</th>\n",
       "      <td>...</td>\n",
       "      <td>...</td>\n",
       "      <td>...</td>\n",
       "      <td>...</td>\n",
       "      <td>...</td>\n",
       "      <td>...</td>\n",
       "    </tr>\n",
       "    <tr>\n",
       "      <th>2020-12-27</th>\n",
       "      <td>Mumbai</td>\n",
       "      <td>90.30</td>\n",
       "      <td>Maharashtra</td>\n",
       "      <td>2020</td>\n",
       "      <td>12</td>\n",
       "      <td>27</td>\n",
       "    </tr>\n",
       "    <tr>\n",
       "      <th>2020-12-28</th>\n",
       "      <td>Mumbai</td>\n",
       "      <td>90.30</td>\n",
       "      <td>Maharashtra</td>\n",
       "      <td>2020</td>\n",
       "      <td>12</td>\n",
       "      <td>28</td>\n",
       "    </tr>\n",
       "    <tr>\n",
       "      <th>2020-12-29</th>\n",
       "      <td>Mumbai</td>\n",
       "      <td>90.30</td>\n",
       "      <td>Maharashtra</td>\n",
       "      <td>2020</td>\n",
       "      <td>12</td>\n",
       "      <td>29</td>\n",
       "    </tr>\n",
       "    <tr>\n",
       "      <th>2020-12-30</th>\n",
       "      <td>Mumbai</td>\n",
       "      <td>90.30</td>\n",
       "      <td>Maharashtra</td>\n",
       "      <td>2020</td>\n",
       "      <td>12</td>\n",
       "      <td>30</td>\n",
       "    </tr>\n",
       "    <tr>\n",
       "      <th>2020-12-31</th>\n",
       "      <td>Mumbai</td>\n",
       "      <td>90.30</td>\n",
       "      <td>Maharashtra</td>\n",
       "      <td>2020</td>\n",
       "      <td>12</td>\n",
       "      <td>31</td>\n",
       "    </tr>\n",
       "  </tbody>\n",
       "</table>\n",
       "<p>1035 rows × 6 columns</p>\n",
       "</div>"
      ],
      "text/plain": [
       "              city   rate        state  year  month  day\n",
       "date                                                    \n",
       "2002-10-01  Mumbai  34.42  Maharashtra  2002     10    1\n",
       "2002-10-17  Mumbai  34.95  Maharashtra  2002     10   17\n",
       "2002-11-01  Mumbai  34.98  Maharashtra  2002     11    1\n",
       "2002-11-16  Mumbai  34.23  Maharashtra  2002     11   16\n",
       "2002-12-01  Mumbai  33.63  Maharashtra  2002     12    1\n",
       "...            ...    ...          ...   ...    ...  ...\n",
       "2020-12-27  Mumbai  90.30  Maharashtra  2020     12   27\n",
       "2020-12-28  Mumbai  90.30  Maharashtra  2020     12   28\n",
       "2020-12-29  Mumbai  90.30  Maharashtra  2020     12   29\n",
       "2020-12-30  Mumbai  90.30  Maharashtra  2020     12   30\n",
       "2020-12-31  Mumbai  90.30  Maharashtra  2020     12   31\n",
       "\n",
       "[1035 rows x 6 columns]"
      ]
     },
     "execution_count": 23,
     "metadata": {},
     "output_type": "execute_result"
    }
   ],
   "source": [
    "# preview of citywise dataset\n",
    "mumbai"
   ]
  },
  {
   "cell_type": "code",
   "execution_count": 24,
   "id": "07755fa0",
   "metadata": {},
   "outputs": [],
   "source": [
    "# extracting city wise data into new varibles for using in plots\n",
    "delhi = data[data['city'] == 'Delhi']"
   ]
  },
  {
   "cell_type": "code",
   "execution_count": 25,
   "id": "97edf7dc",
   "metadata": {},
   "outputs": [
    {
     "data": {
      "text/plain": [
       "2018-01-08    2\n",
       "2020-01-09    1\n",
       "2020-01-11    1\n",
       "2020-01-12    1\n",
       "2020-01-13    1\n",
       "             ..\n",
       "2018-05-29    1\n",
       "2018-05-31    1\n",
       "2018-06-01    1\n",
       "2018-06-02    1\n",
       "2020-12-31    1\n",
       "Name: date, Length: 1028, dtype: int64"
      ]
     },
     "execution_count": 25,
     "metadata": {},
     "output_type": "execute_result"
    }
   ],
   "source": [
    "# checking for duplicate dates\n",
    "delhi.index.value_counts()"
   ]
  },
  {
   "cell_type": "code",
   "execution_count": 26,
   "id": "dbf56bfa",
   "metadata": {},
   "outputs": [
    {
     "data": {
      "text/html": [
       "<div>\n",
       "<style scoped>\n",
       "    .dataframe tbody tr th:only-of-type {\n",
       "        vertical-align: middle;\n",
       "    }\n",
       "\n",
       "    .dataframe tbody tr th {\n",
       "        vertical-align: top;\n",
       "    }\n",
       "\n",
       "    .dataframe thead th {\n",
       "        text-align: right;\n",
       "    }\n",
       "</style>\n",
       "<table border=\"1\" class=\"dataframe\">\n",
       "  <thead>\n",
       "    <tr style=\"text-align: right;\">\n",
       "      <th></th>\n",
       "      <th>city</th>\n",
       "      <th>rate</th>\n",
       "      <th>state</th>\n",
       "      <th>year</th>\n",
       "      <th>month</th>\n",
       "      <th>day</th>\n",
       "    </tr>\n",
       "    <tr>\n",
       "      <th>date</th>\n",
       "      <th></th>\n",
       "      <th></th>\n",
       "      <th></th>\n",
       "      <th></th>\n",
       "      <th></th>\n",
       "      <th></th>\n",
       "    </tr>\n",
       "  </thead>\n",
       "  <tbody>\n",
       "    <tr>\n",
       "      <th>2018-01-08</th>\n",
       "      <td>Delhi</td>\n",
       "      <td>77.18</td>\n",
       "      <td>Delhi</td>\n",
       "      <td>2018</td>\n",
       "      <td>1</td>\n",
       "      <td>8</td>\n",
       "    </tr>\n",
       "    <tr>\n",
       "      <th>2018-01-08</th>\n",
       "      <td>Delhi</td>\n",
       "      <td>70.50</td>\n",
       "      <td>Delhi</td>\n",
       "      <td>2018</td>\n",
       "      <td>1</td>\n",
       "      <td>8</td>\n",
       "    </tr>\n",
       "  </tbody>\n",
       "</table>\n",
       "</div>"
      ],
      "text/plain": [
       "             city   rate  state  year  month  day\n",
       "date                                             \n",
       "2018-01-08  Delhi  77.18  Delhi  2018      1    8\n",
       "2018-01-08  Delhi  70.50  Delhi  2018      1    8"
      ]
     },
     "execution_count": 26,
     "metadata": {},
     "output_type": "execute_result"
    }
   ],
   "source": [
    "# duplicate dates\n",
    "delhi.loc[delhi.index == '2018-01-08']"
   ]
  },
  {
   "cell_type": "code",
   "execution_count": 27,
   "id": "3578181f",
   "metadata": {},
   "outputs": [],
   "source": [
    "# # removing records of duplicate dates\n",
    "delhi = delhi.drop(['2018-01-08'], axis = 0)"
   ]
  },
  {
   "cell_type": "code",
   "execution_count": 28,
   "id": "8913c71f",
   "metadata": {},
   "outputs": [
    {
     "data": {
      "text/plain": [
       "2002-11-01    1\n",
       "2020-04-17    1\n",
       "2020-01-10    1\n",
       "2020-01-11    1\n",
       "2020-01-12    1\n",
       "             ..\n",
       "2018-05-29    1\n",
       "2018-05-31    1\n",
       "2018-06-01    1\n",
       "2018-06-02    1\n",
       "2020-12-31    1\n",
       "Name: date, Length: 1027, dtype: int64"
      ]
     },
     "execution_count": 28,
     "metadata": {},
     "output_type": "execute_result"
    }
   ],
   "source": [
    "delhi.index.value_counts()"
   ]
  },
  {
   "cell_type": "code",
   "execution_count": 29,
   "id": "778c5330",
   "metadata": {},
   "outputs": [],
   "source": [
    "chennai = data[data['city'] == 'Chennai']"
   ]
  },
  {
   "cell_type": "code",
   "execution_count": 30,
   "id": "6a0c8e11",
   "metadata": {},
   "outputs": [
    {
     "data": {
      "text/plain": [
       "2015-07-01    2\n",
       "2019-11-01    2\n",
       "2012-06-03    2\n",
       "2020-01-18    1\n",
       "2020-01-23    1\n",
       "             ..\n",
       "2018-06-02    1\n",
       "2018-06-03    1\n",
       "2018-06-04    1\n",
       "2018-06-05    1\n",
       "2020-12-31    1\n",
       "Name: date, Length: 1028, dtype: int64"
      ]
     },
     "execution_count": 30,
     "metadata": {},
     "output_type": "execute_result"
    }
   ],
   "source": [
    "chennai.index.value_counts()"
   ]
  },
  {
   "cell_type": "code",
   "execution_count": 31,
   "id": "7509a69f",
   "metadata": {},
   "outputs": [],
   "source": [
    "chennai = chennai.drop(['2015-07-01','2019-11-01','2012-06-03'], axis = 0)"
   ]
  },
  {
   "cell_type": "code",
   "execution_count": 32,
   "id": "d41cff7b",
   "metadata": {},
   "outputs": [
    {
     "data": {
      "text/plain": [
       "2002-11-01    1\n",
       "2019-04-12    1\n",
       "2020-01-11    1\n",
       "2020-01-12    1\n",
       "2020-01-13    1\n",
       "             ..\n",
       "2018-06-02    1\n",
       "2018-06-03    1\n",
       "2018-06-04    1\n",
       "2018-06-05    1\n",
       "2020-12-31    1\n",
       "Name: date, Length: 1025, dtype: int64"
      ]
     },
     "execution_count": 32,
     "metadata": {},
     "output_type": "execute_result"
    }
   ],
   "source": [
    "chennai.index.value_counts()"
   ]
  },
  {
   "cell_type": "code",
   "execution_count": 33,
   "id": "a609da24",
   "metadata": {},
   "outputs": [],
   "source": [
    "hydera = data[data['city'] == 'Hyderabad']"
   ]
  },
  {
   "cell_type": "code",
   "execution_count": 34,
   "id": "7eceaf8a",
   "metadata": {},
   "outputs": [
    {
     "data": {
      "text/plain": [
       "2011-12-01    1\n",
       "2020-01-26    1\n",
       "2020-01-28    1\n",
       "2020-01-29    1\n",
       "2020-01-30    1\n",
       "             ..\n",
       "2018-07-30    1\n",
       "2018-07-31    1\n",
       "2018-08-02    1\n",
       "2018-08-03    1\n",
       "2020-12-31    1\n",
       "Name: date, Length: 978, dtype: int64"
      ]
     },
     "execution_count": 34,
     "metadata": {},
     "output_type": "execute_result"
    }
   ],
   "source": [
    "hydera.index.value_counts()"
   ]
  },
  {
   "cell_type": "code",
   "execution_count": 35,
   "id": "4242b9b7",
   "metadata": {},
   "outputs": [],
   "source": [
    "bengal = data[data['city'] == 'Bengaluru']"
   ]
  },
  {
   "cell_type": "code",
   "execution_count": 36,
   "id": "29e97608",
   "metadata": {},
   "outputs": [
    {
     "data": {
      "text/html": [
       "<div>\n",
       "<style scoped>\n",
       "    .dataframe tbody tr th:only-of-type {\n",
       "        vertical-align: middle;\n",
       "    }\n",
       "\n",
       "    .dataframe tbody tr th {\n",
       "        vertical-align: top;\n",
       "    }\n",
       "\n",
       "    .dataframe thead th {\n",
       "        text-align: right;\n",
       "    }\n",
       "</style>\n",
       "<table border=\"1\" class=\"dataframe\">\n",
       "  <thead>\n",
       "    <tr style=\"text-align: right;\">\n",
       "      <th></th>\n",
       "      <th>city</th>\n",
       "      <th>rate</th>\n",
       "      <th>state</th>\n",
       "      <th>year</th>\n",
       "      <th>month</th>\n",
       "      <th>day</th>\n",
       "    </tr>\n",
       "    <tr>\n",
       "      <th>date</th>\n",
       "      <th></th>\n",
       "      <th></th>\n",
       "      <th></th>\n",
       "      <th></th>\n",
       "      <th></th>\n",
       "      <th></th>\n",
       "    </tr>\n",
       "  </thead>\n",
       "  <tbody>\n",
       "    <tr>\n",
       "      <th>2012-04-01</th>\n",
       "      <td>Bengaluru</td>\n",
       "      <td>73.51</td>\n",
       "      <td>Karnataka</td>\n",
       "      <td>2012</td>\n",
       "      <td>4</td>\n",
       "      <td>1</td>\n",
       "    </tr>\n",
       "    <tr>\n",
       "      <th>2012-05-24</th>\n",
       "      <td>Bengaluru</td>\n",
       "      <td>81.75</td>\n",
       "      <td>Karnataka</td>\n",
       "      <td>2012</td>\n",
       "      <td>5</td>\n",
       "      <td>24</td>\n",
       "    </tr>\n",
       "    <tr>\n",
       "      <th>2012-06-03</th>\n",
       "      <td>Bengaluru</td>\n",
       "      <td>79.61</td>\n",
       "      <td>Karnataka</td>\n",
       "      <td>2012</td>\n",
       "      <td>6</td>\n",
       "      <td>3</td>\n",
       "    </tr>\n",
       "    <tr>\n",
       "      <th>2012-06-29</th>\n",
       "      <td>Bengaluru</td>\n",
       "      <td>76.39</td>\n",
       "      <td>Karnataka</td>\n",
       "      <td>2012</td>\n",
       "      <td>6</td>\n",
       "      <td>29</td>\n",
       "    </tr>\n",
       "    <tr>\n",
       "      <th>2012-07-24</th>\n",
       "      <td>Bengaluru</td>\n",
       "      <td>77.30</td>\n",
       "      <td>Karnataka</td>\n",
       "      <td>2012</td>\n",
       "      <td>7</td>\n",
       "      <td>24</td>\n",
       "    </tr>\n",
       "    <tr>\n",
       "      <th>...</th>\n",
       "      <td>...</td>\n",
       "      <td>...</td>\n",
       "      <td>...</td>\n",
       "      <td>...</td>\n",
       "      <td>...</td>\n",
       "      <td>...</td>\n",
       "    </tr>\n",
       "    <tr>\n",
       "      <th>2020-12-27</th>\n",
       "      <td>Bengaluru</td>\n",
       "      <td>86.47</td>\n",
       "      <td>Karnataka</td>\n",
       "      <td>2020</td>\n",
       "      <td>12</td>\n",
       "      <td>27</td>\n",
       "    </tr>\n",
       "    <tr>\n",
       "      <th>2020-12-28</th>\n",
       "      <td>Bengaluru</td>\n",
       "      <td>86.47</td>\n",
       "      <td>Karnataka</td>\n",
       "      <td>2020</td>\n",
       "      <td>12</td>\n",
       "      <td>28</td>\n",
       "    </tr>\n",
       "    <tr>\n",
       "      <th>2020-12-29</th>\n",
       "      <td>Bengaluru</td>\n",
       "      <td>86.47</td>\n",
       "      <td>Karnataka</td>\n",
       "      <td>2020</td>\n",
       "      <td>12</td>\n",
       "      <td>29</td>\n",
       "    </tr>\n",
       "    <tr>\n",
       "      <th>2020-12-30</th>\n",
       "      <td>Bengaluru</td>\n",
       "      <td>86.47</td>\n",
       "      <td>Karnataka</td>\n",
       "      <td>2020</td>\n",
       "      <td>12</td>\n",
       "      <td>30</td>\n",
       "    </tr>\n",
       "    <tr>\n",
       "      <th>2020-12-31</th>\n",
       "      <td>Bengaluru</td>\n",
       "      <td>86.47</td>\n",
       "      <td>Karnataka</td>\n",
       "      <td>2020</td>\n",
       "      <td>12</td>\n",
       "      <td>31</td>\n",
       "    </tr>\n",
       "  </tbody>\n",
       "</table>\n",
       "<p>975 rows × 6 columns</p>\n",
       "</div>"
      ],
      "text/plain": [
       "                 city   rate      state  year  month  day\n",
       "date                                                     \n",
       "2012-04-01  Bengaluru  73.51  Karnataka  2012      4    1\n",
       "2012-05-24  Bengaluru  81.75  Karnataka  2012      5   24\n",
       "2012-06-03  Bengaluru  79.61  Karnataka  2012      6    3\n",
       "2012-06-29  Bengaluru  76.39  Karnataka  2012      6   29\n",
       "2012-07-24  Bengaluru  77.30  Karnataka  2012      7   24\n",
       "...               ...    ...        ...   ...    ...  ...\n",
       "2020-12-27  Bengaluru  86.47  Karnataka  2020     12   27\n",
       "2020-12-28  Bengaluru  86.47  Karnataka  2020     12   28\n",
       "2020-12-29  Bengaluru  86.47  Karnataka  2020     12   29\n",
       "2020-12-30  Bengaluru  86.47  Karnataka  2020     12   30\n",
       "2020-12-31  Bengaluru  86.47  Karnataka  2020     12   31\n",
       "\n",
       "[975 rows x 6 columns]"
      ]
     },
     "execution_count": 36,
     "metadata": {},
     "output_type": "execute_result"
    }
   ],
   "source": [
    "bengal"
   ]
  },
  {
   "cell_type": "code",
   "execution_count": 37,
   "id": "a9315668",
   "metadata": {},
   "outputs": [
    {
     "data": {
      "text/plain": [
       "2012-04-01    1\n",
       "2020-02-29    1\n",
       "2020-01-29    1\n",
       "2020-01-30    1\n",
       "2020-01-31    1\n",
       "             ..\n",
       "2018-08-03    1\n",
       "2018-08-06    1\n",
       "2018-08-07    1\n",
       "2018-08-13    1\n",
       "2020-12-31    1\n",
       "Name: date, Length: 975, dtype: int64"
      ]
     },
     "execution_count": 37,
     "metadata": {},
     "output_type": "execute_result"
    }
   ],
   "source": [
    "bengal.index.value_counts()"
   ]
  },
  {
   "cell_type": "markdown",
   "id": "f5800c81",
   "metadata": {},
   "source": [
    "now we have created variable for every city"
   ]
  },
  {
   "cell_type": "markdown",
   "id": "e5e3f88a",
   "metadata": {},
   "source": [
    "# Line Plot"
   ]
  },
  {
   "cell_type": "code",
   "execution_count": 54,
   "id": "7cdaf9f5",
   "metadata": {},
   "outputs": [],
   "source": [
    "# creating a fuction for visualizing Line Plot\n",
    "def linePlot(city,ran):\n",
    "#   using seaborn module for line plot \n",
    "    plt.subplot(5,1,ran)\n",
    "    sns.lineplot(x = 'date', y = 'rate', data = city, color = 'r')\n",
    "    plt.subplots_adjust(wspace= 0.4)\n",
    "    \n",
    "#   extracting city name from dataset and changing it into a string\n",
    "    placeName = city['city'].unique()\n",
    "    placeName = np.array_str(placeName)\n",
    "    placeName = placeName[2:-2]\n",
    "    \n",
    "#   title and labels for Plots\n",
    "    title = 'Petrol Price in {place}'.format(place = placeName)\n",
    "    plt.title(title)\n",
    "    plt.xlabel('Year')\n",
    "    plt.ylabel('Price')\n"
   ]
  },
  {
   "cell_type": "code",
   "execution_count": 55,
   "id": "03e81cd6",
   "metadata": {},
   "outputs": [],
   "source": [
    "# creating a list for all citywise datasets\n",
    "cities = [mumbai,delhi,chennai,hydera,bengal]\n",
    "rang = [1,2,3,4,5,6]"
   ]
  },
  {
   "cell_type": "code",
   "execution_count": 60,
   "id": "103b7ed7",
   "metadata": {},
   "outputs": [],
   "source": [
    "# creating a function for visulaizing all cities Line PLots\n",
    "def allInOne():\n",
    "    fig, axs = plt.subplots(nrows = 1, ncols = 5, figsize=(10,10))\n",
    "    plt.subplots_adjust(hspace = 1.4)\n",
    "    for city,ran in zip(cities,rang):\n",
    "        linePlot(city,ran)"
   ]
  },
  {
   "cell_type": "code",
   "execution_count": 59,
   "id": "1c789b94",
   "metadata": {},
   "outputs": [
    {
     "data": {
      "image/png": "[encoded data removed]",
      "text/plain": [
       "<Figure size 1000x1000 with 5 Axes>"
      ]
     },
     "metadata": {},
     "output_type": "display_data"
    }
   ],
   "source": [
    "allInOne()"
   ]
  },
  {
   "cell_type": "markdown",
   "id": "a1c0a5cb",
   "metadata": {},
   "source": [
    "# Bar Plot in Years"
   ]
  },
  {
   "cell_type": "code",
   "execution_count": 42,
   "id": "eabf4606",
   "metadata": {},
   "outputs": [],
   "source": [
    "# creating a fuction to visualize data by year \n",
    "def barPlot(yearData, numb):\n",
    "    plt.subplot(1,3,numb)\n",
    "    sns.barplot(x = 'city', y = 'rate', data = yearData)\n",
    "    plt.title(str(yearData['year'].unique()))\n",
    "    plt.xlabel('Cities')\n",
    "    plt.ylabel('Price in Rupees')\n",
    "\n",
    "# creating a function to subplot data by years\n",
    "def yearPlot(startyear):\n",
    "    fig, axs = plt.subplots(nrows = 1, ncols = 3, figsize=(15,4))\n",
    "    plt.subplots_adjust(hspace = 0.5)\n",
    "    fig.suptitle('Petrol Prices by Years', fontsize = 18, y = 1.05)\n",
    "    for i in range(1,4):\n",
    "        rates = data[data['year'] == startyear + i]\n",
    "        barPlot(rates,i)\n"
   ]
  },
  {
   "cell_type": "code",
   "execution_count": 43,
   "id": "e7aae2ca",
   "metadata": {},
   "outputs": [
    {
     "data": {
      "image/png": "[encoded data removed]",
      "text/plain": [
       "<Figure size 1500x400 with 3 Axes>"
      ]
     },
     "metadata": {},
     "output_type": "display_data"
    }
   ],
   "source": [
    "yearPlot(2009)"
   ]
  },
  {
   "cell_type": "code",
   "execution_count": 44,
   "id": "619d41d2",
   "metadata": {},
   "outputs": [
    {
     "data": {
      "image/png": "[encoded data removed]",
      "text/plain": [
       "<Figure size 1500x400 with 3 Axes>"
      ]
     },
     "metadata": {},
     "output_type": "display_data"
    }
   ],
   "source": [
    "yearPlot(2015)"
   ]
  },
  {
   "cell_type": "code",
   "execution_count": 45,
   "id": "013162a3",
   "metadata": {},
   "outputs": [
    {
     "data": {
      "image/png": "[encoded data removed]",
      "text/plain": [
       "<Figure size 1500x400 with 3 Axes>"
      ]
     },
     "metadata": {},
     "output_type": "display_data"
    }
   ],
   "source": [
    "yearPlot(2002)"
   ]
  },
  {
   "cell_type": "markdown",
   "id": "1b0ae3ce",
   "metadata": {},
   "source": [
    "# Joint Plot"
   ]
  },
  {
   "cell_type": "code",
   "execution_count": 46,
   "id": "f6ce6c22",
   "metadata": {},
   "outputs": [],
   "source": [
    "# creating a function to visualize joint function\n",
    "def joinPlot(city):\n",
    "    sns.jointplot( x = 'year', y = 'rate', data = city, kind = 'reg')\n",
    "    plt.show()"
   ]
  },
  {
   "cell_type": "code",
   "execution_count": 47,
   "id": "cb62aa74",
   "metadata": {},
   "outputs": [
    {
     "data": {
      "image/png": "[encoded data removed]",
      "text/plain": [
       "<Figure size 600x600 with 3 Axes>"
      ]
     },
     "metadata": {},
     "output_type": "display_data"
    }
   ],
   "source": [
    "joinPlot(mumbai)"
   ]
  },
  {
   "cell_type": "code",
   "execution_count": null,
   "id": "56feea60",
   "metadata": {},
   "outputs": [],
   "source": []
  }
 ],
 "metadata": {
  "kernelspec": {
   "display_name": "Python 3 (ipykernel)",
   "language": "python",
   "name": "python3"
  },
  "language_info": {
   "codemirror_mode": {
    "name": "ipython",
    "version": 3
   },
   "file_extension": ".py",
   "mimetype": "text/x-python",
   "name": "python",
   "nbconvert_exporter": "python",
   "pygments_lexer": "ipython3",
   "version": "3.9.13"
  }
 },
 "nbformat": 4,
 "nbformat_minor": 5
}
